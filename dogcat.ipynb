{
  "nbformat": 4,
  "nbformat_minor": 0,
  "metadata": {
    "colab": {
      "provenance": [],
      "gpuType": "T4"
    },
    "kernelspec": {
      "name": "python3",
      "display_name": "Python 3"
    },
    "language_info": {
      "name": "python"
    },
    "accelerator": "GPU"
  },
  "cells": [
    {
      "cell_type": "code",
      "source": [
        "!ls /content"
      ],
      "metadata": {
        "colab": {
          "base_uri": "https://localhost:8080/"
        },
        "id": "J4uJX5jbD_vW",
        "outputId": "c6609859-46bc-453d-ad68-c96c4c84e6a2"
      },
      "execution_count": 2,
      "outputs": [
        {
          "output_type": "stream",
          "name": "stdout",
          "text": [
            "dog-cat-full-dataset  sample_data\n"
          ]
        }
      ]
    },
    {
      "cell_type": "code",
      "source": [
        "from keras.layers import Input, Lambda, Dense, Flatten\n",
        "from keras.models import Model\n",
        "from keras.applications.vgg16 import VGG16\n",
        "from keras.applications.vgg16 import preprocess_input\n",
        "from keras.preprocessing import image\n",
        "from keras.preprocessing.image import ImageDataGenerator\n",
        "from keras.models import Sequential\n",
        "import numpy as np\n",
        "from glob import glob\n",
        "import matplotlib.pyplot as plt\n",
        "from PIL import Image\n",
        "import tensorflow as tf\n",
        "from tensorflow.keras.preprocessing.image import ImageDataGenerator\n",
        "from tensorflow.keras.applications import ResNet50\n",
        "from tensorflow.keras.layers import Dense, GlobalAveragePooling2D\n",
        "from tensorflow.keras.models import Model\n",
        "\n",
        "# re-size all the images to this\n",
        "IMAGE_SIZE = [224, 224]\n",
        "\n",
        "train_path = r'/content/dog-cat-full-dataset/data/train'\n",
        "valid_path = r'/content/dog-cat-full-dataset/data/test'"
      ],
      "metadata": {
        "id": "yVfGHuRiEUIU"
      },
      "execution_count": 3,
      "outputs": []
    },
    {
      "cell_type": "code",
      "source": [
        "num_classes = 2\n",
        "\n",
        "# Define the image dimensions\n",
        "img_width, img_height = 224, 224\n",
        "\n",
        "# Create a data generator for training and validation data\n",
        "train_datagen = ImageDataGenerator(\n",
        "    rescale=1.0 / 255,\n",
        "    rotation_range=20,\n",
        "    width_shift_range=0.2,\n",
        "    height_shift_range=0.2,\n",
        "    horizontal_flip=True,\n",
        "    zoom_range=0.2\n",
        ")\n",
        "\n",
        "valid_datagen = ImageDataGenerator(rescale=1.0 / 255)\n",
        "\n",
        "# Create data generators from directories\n",
        "train_generator = train_datagen.flow_from_directory(\n",
        "    train_path,\n",
        "    target_size=(img_width, img_height),\n",
        "    batch_size=32,\n",
        "    class_mode='categorical'\n",
        ")\n",
        "\n",
        "valid_generator = valid_datagen.flow_from_directory(\n",
        "    valid_path,\n",
        "    target_size=(img_width, img_height),\n",
        "    batch_size=32,\n",
        "    class_mode='categorical'\n",
        ")\n"
      ],
      "metadata": {
        "colab": {
          "base_uri": "https://localhost:8080/"
        },
        "id": "Zm-M9NxwE16r",
        "outputId": "89234ca6-268c-4628-f279-20c5827fdc04"
      },
      "execution_count": 4,
      "outputs": [
        {
          "output_type": "stream",
          "name": "stdout",
          "text": [
            "Found 20000 images belonging to 2 classes.\n",
            "Found 5000 images belonging to 2 classes.\n"
          ]
        }
      ]
    },
    {
      "cell_type": "code",
      "source": [
        "# Create the ResNet-50 model with pre-trained weights (excluding the top layer)\n",
        "base_model = ResNet50(weights='imagenet', include_top=False)\n",
        "\n",
        "# Add a global average pooling layer and a dense output layer\n",
        "x = base_model.output\n",
        "x = GlobalAveragePooling2D()(x)\n",
        "x = Dense(1024, activation='relu')(x)\n",
        "predictions = Dense(num_classes, activation='softmax')(x)\n",
        "\n",
        "# Create the final model\n",
        "model = Model(inputs=base_model.input, outputs=predictions)\n",
        "\n",
        "# Compile the model\n",
        "model.compile(optimizer=tf.keras.optimizers.SGD(lr=0.0001, momentum=0.9),\n",
        "              loss='categorical_crossentropy',\n",
        "              metrics=['accuracy'])\n",
        "\n",
        "# Train the model\n",
        "model.fit(\n",
        "    train_generator,\n",
        "    steps_per_epoch=train_generator.samples // 32,\n",
        "    validation_data=valid_generator,\n",
        "    validation_steps=valid_generator.samples // 32,\n",
        "    epochs=10\n",
        ")"
      ],
      "metadata": {
        "colab": {
          "base_uri": "https://localhost:8080/"
        },
        "id": "e7ra7IAHE7CU",
        "outputId": "bd052b86-6744-4c72-b73d-e75de3ba24da"
      },
      "execution_count": 5,
      "outputs": [
        {
          "output_type": "stream",
          "name": "stdout",
          "text": [
            "Downloading data from https://storage.googleapis.com/tensorflow/keras-applications/resnet/resnet50_weights_tf_dim_ordering_tf_kernels_notop.h5\n",
            "94765736/94765736 [==============================] - 3s 0us/step\n"
          ]
        },
        {
          "output_type": "stream",
          "name": "stderr",
          "text": [
            "WARNING:absl:`lr` is deprecated in Keras optimizer, please use `learning_rate` or use the legacy optimizer, e.g.,tf.keras.optimizers.legacy.SGD.\n"
          ]
        },
        {
          "output_type": "stream",
          "name": "stdout",
          "text": [
            "Epoch 1/10\n",
            "625/625 [==============================] - 396s 587ms/step - loss: 0.1554 - accuracy: 0.9376 - val_loss: 0.6212 - val_accuracy: 0.5655\n",
            "Epoch 2/10\n",
            "625/625 [==============================] - 371s 594ms/step - loss: 0.0743 - accuracy: 0.9714 - val_loss: 0.0841 - val_accuracy: 0.9667\n",
            "Epoch 3/10\n",
            "625/625 [==============================] - 367s 587ms/step - loss: 0.0592 - accuracy: 0.9758 - val_loss: 0.1298 - val_accuracy: 0.9515\n",
            "Epoch 4/10\n",
            "625/625 [==============================] - 366s 585ms/step - loss: 0.0484 - accuracy: 0.9827 - val_loss: 0.0802 - val_accuracy: 0.9696\n",
            "Epoch 5/10\n",
            "625/625 [==============================] - 368s 589ms/step - loss: 0.0429 - accuracy: 0.9839 - val_loss: 0.0607 - val_accuracy: 0.9806\n",
            "Epoch 6/10\n",
            "625/625 [==============================] - 376s 601ms/step - loss: 0.0367 - accuracy: 0.9866 - val_loss: 0.0645 - val_accuracy: 0.9768\n",
            "Epoch 7/10\n",
            "625/625 [==============================] - 376s 602ms/step - loss: 0.0330 - accuracy: 0.9876 - val_loss: 0.0640 - val_accuracy: 0.9786\n",
            "Epoch 8/10\n",
            "625/625 [==============================] - 375s 599ms/step - loss: 0.0291 - accuracy: 0.9890 - val_loss: 0.0818 - val_accuracy: 0.9706\n",
            "Epoch 9/10\n",
            "625/625 [==============================] - 371s 593ms/step - loss: 0.0276 - accuracy: 0.9897 - val_loss: 0.0559 - val_accuracy: 0.9796\n",
            "Epoch 10/10\n",
            "625/625 [==============================] - 367s 587ms/step - loss: 0.0247 - accuracy: 0.9905 - val_loss: 0.0573 - val_accuracy: 0.9810\n"
          ]
        },
        {
          "output_type": "execute_result",
          "data": {
            "text/plain": [
              "<keras.src.callbacks.History at 0x7da09d707310>"
            ]
          },
          "metadata": {},
          "execution_count": 5
        }
      ]
    },
    {
      "cell_type": "code",
      "source": [
        "model.save('cat_vs_dog_resnet50.h5')"
      ],
      "metadata": {
        "colab": {
          "base_uri": "https://localhost:8080/"
        },
        "id": "BTByu7LJFM4V",
        "outputId": "4b99a521-9986-4c14-dcf0-747d42bd4ce3"
      },
      "execution_count": 6,
      "outputs": [
        {
          "output_type": "stream",
          "name": "stderr",
          "text": [
            "/usr/local/lib/python3.10/dist-packages/keras/src/engine/training.py:3000: UserWarning: You are saving your model as an HDF5 file via `model.save()`. This file format is considered legacy. We recommend using instead the native Keras format, e.g. `model.save('my_model.keras')`.\n",
            "  saving_api.save_model(\n"
          ]
        }
      ]
    },
    {
      "cell_type": "code",
      "source": [],
      "metadata": {
        "id": "BwaGm0mTFWMq"
      },
      "execution_count": null,
      "outputs": []
    }
  ]
}